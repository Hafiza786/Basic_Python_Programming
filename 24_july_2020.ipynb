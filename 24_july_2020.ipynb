{
 "cells": [
  {
   "cell_type": "markdown",
   "metadata": {},
   "source": [
    "# List Comprehension\n",
    "- In python, list comprehension is easy way to create lists.These are the efficient compared to for loop\n",
    "- Comprehension is nothing but inclusive(within itself)\n",
    "- In python we use these comprehensions to simplify the code and reduce the programming lines.\n",
    "## Types of comprehensions\n",
    "- List Comprehension\n",
    "- Dictionary Comprehension\n",
    "- Set Comprehension"
   ]
  },
  {
   "cell_type": "code",
   "execution_count": 37,
   "metadata": {},
   "outputs": [
    {
     "data": {
      "text/plain": [
       "['h', 'e', 'l', 'l', 'o']"
      ]
     },
     "execution_count": 37,
     "metadata": {},
     "output_type": "execute_result"
    }
   ],
   "source": [
    "#Adding each character of a string  to a list without comprehension\n",
    "\n",
    "s=[]\n",
    "\n",
    "for i in \"hello\":\n",
    "    s.append(i)\n",
    "    \n",
    "s"
   ]
  },
  {
   "cell_type": "code",
   "execution_count": 38,
   "metadata": {},
   "outputs": [
    {
     "data": {
      "text/plain": [
       "[1, 2, 3, 4, 5, 6, 7, 8, 9, 10]"
      ]
     },
     "execution_count": 38,
     "metadata": {},
     "output_type": "execute_result"
    }
   ],
   "source": [
    "#display numbers from 1 to 10 in list format\n",
    "\n",
    "l=[]\n",
    "for i in range(1,11):\n",
    "    l.append(i)\n",
    "l"
   ]
  },
  {
   "cell_type": "code",
   "execution_count": 3,
   "metadata": {},
   "outputs": [
    {
     "name": "stdout",
     "output_type": "stream",
     "text": [
      "[1, 2, 3, 4, 5]\n"
     ]
    }
   ],
   "source": [
    "#Example of copying the content of list1 to result by using append\n",
    "list1=[1,2,3,4,5]\n",
    "result = []\n",
    "for i in list1:\n",
    "    result.append(i)\n",
    "print(result)    \n",
    "    "
   ]
  },
  {
   "cell_type": "code",
   "execution_count": 20,
   "metadata": {},
   "outputs": [
    {
     "name": "stdout",
     "output_type": "stream",
     "text": [
      "List comprehension: [1, 2, 3, 4, 5, 6, 7, 8, 9, 10]\n"
     ]
    }
   ],
   "source": [
    "#List Comprehension\n",
    "#[output-variable loop  conditions]\n",
    "#At the beginning output variable should be defined\n",
    "#Loop should be defined after out-put variable\n",
    "#Condition should be defined after loop\n",
    "\n",
    "\n",
    "#display numbers from 1 to 10 in list format\n",
    "l=[i for i in range(1,11)]\n",
    "print(\"List comprehension:\",l)"
   ]
  },
  {
   "cell_type": "code",
   "execution_count": 21,
   "metadata": {},
   "outputs": [
    {
     "name": "stdout",
     "output_type": "stream",
     "text": [
      "['h', 'e', 'l', 'l', 'o']\n"
     ]
    }
   ],
   "source": [
    "#print each character of a string using list comprehension\n",
    "\n",
    "s=[i for i in \"hello\"]\n",
    "print(s)"
   ]
  },
  {
   "cell_type": "code",
   "execution_count": 10,
   "metadata": {},
   "outputs": [
    {
     "name": "stdout",
     "output_type": "stream",
     "text": [
      "[6, 7, 8, 9, 10]\n"
     ]
    }
   ],
   "source": [
    "# printing numbers in a given range using list comprehension\n",
    "result=[number for number in range(6,11)]\n",
    "print(result)"
   ]
  },
  {
   "cell_type": "code",
   "execution_count": null,
   "metadata": {},
   "outputs": [],
   "source": [
    "#Tasks\n",
    "#1  to 10 even\n",
    "#2 to 10 odd\n",
    "#3 t0 20 prime"
   ]
  },
  {
   "cell_type": "code",
   "execution_count": 29,
   "metadata": {},
   "outputs": [
    {
     "name": "stdout",
     "output_type": "stream",
     "text": [
      "[1, 3, 5, 7, 9]\n"
     ]
    }
   ],
   "source": [
    "#method 1\n",
    "#printing odd numbers in given range\n",
    "result=[number for number in range(1,11,2)]\n",
    "print(result)\n"
   ]
  },
  {
   "cell_type": "code",
   "execution_count": null,
   "metadata": {},
   "outputs": [],
   "source": [
    "#method 2\n",
    "#print odd numbers from a given range 1,100 in list format\n",
    "\n",
    "odd=[i for i in range(1,101) if i%2!=0]\n",
    "print(odd)"
   ]
  },
  {
   "cell_type": "code",
   "execution_count": 30,
   "metadata": {},
   "outputs": [
    {
     "name": "stdout",
     "output_type": "stream",
     "text": [
      "[2, 4, 6, 8, 10]\n"
     ]
    }
   ],
   "source": [
    "#method 1\n",
    "#printing even numbers in given range\n",
    "result=[number for number in range(2,11,2)]\n",
    "print(result)\n"
   ]
  },
  {
   "cell_type": "code",
   "execution_count": null,
   "metadata": {},
   "outputs": [],
   "source": [
    "#method 2\n",
    "# print even numbers from a given range in list format\n",
    "even=[i for i in range(1,51) if i%2==0]\n",
    "print(even)"
   ]
  },
  {
   "cell_type": "code",
   "execution_count": 22,
   "metadata": {},
   "outputs": [
    {
     "name": "stdout",
     "output_type": "stream",
     "text": [
      "[2, 4, 6, 8, 10, 12, 14, 16, 18, 20, 22, 24, 26, 28, 30, 32, 34, 36, 38, 40, 42, 44, 46, 48, 50]\n"
     ]
    }
   ],
   "source": [
    "#print even numbers from a given list in list format\n",
    "even=[]\n",
    "\n",
    "for i in range(1,51):\n",
    "    if i%2==0:\n",
    "        even.append(i)\n",
    "        \n",
    "print(even)"
   ]
  },
  {
   "cell_type": "code",
   "execution_count": 23,
   "metadata": {},
   "outputs": [
    {
     "name": "stdout",
     "output_type": "stream",
     "text": [
      "['odd', 2, 'odd', 4, 'odd', 6, 'odd', 8, 'odd', 10, 'odd', 12, 'odd', 14, 'odd', 16, 'odd', 18, 'odd', 20, 'odd', 22, 'odd', 24, 'odd', 26, 'odd', 28, 'odd', 30, 'odd', 32, 'odd', 34, 'odd', 36, 'odd', 38, 'odd', 40, 'odd', 42, 'odd', 44, 'odd', 46, 'odd', 48, 'odd', 50]\n"
     ]
    }
   ],
   "source": [
    "#print the even numbers in a list and \n",
    "#replace all odd numbers with \"odd\"\n",
    "l=[]\n",
    "for i in range(1,51):\n",
    "    if i%2==0:\n",
    "        l.append(i)\n",
    "    else:\n",
    "        l.append('odd')\n",
    "print(l)"
   ]
  },
  {
   "cell_type": "code",
   "execution_count": 24,
   "metadata": {},
   "outputs": [
    {
     "name": "stdout",
     "output_type": "stream",
     "text": [
      "['odd', 2, 'odd', 4, 'odd', 6, 'odd', 8, 'odd', 10, 'odd', 12, 'odd', 14, 'odd', 16, 'odd', 18, 'odd', 20, 'odd', 22, 'odd', 24, 'odd', 26, 'odd', 28, 'odd', 30, 'odd', 32, 'odd', 34, 'odd', 36, 'odd', 38, 'odd', 40, 'odd', 42, 'odd', 44, 'odd', 46, 'odd', 48, 'odd', 50]\n"
     ]
    }
   ],
   "source": [
    "#using list comprehension\n",
    "l=[i if i%2==0 else \"odd\" for i in range(1,51)]\n",
    "print(l)"
   ]
  },
  {
   "cell_type": "code",
   "execution_count": 1,
   "metadata": {},
   "outputs": [
    {
     "name": "stdout",
     "output_type": "stream",
     "text": [
      "[2, 3, 5, 7, 11, 13, 17, 19]\n"
     ]
    }
   ],
   "source": [
    "#printing prime numbers in given range \n",
    "result=[x for x in range(2, 20) if all(x % y != 0 for y in range(2, x))]\n",
    "print(result)"
   ]
  },
  {
   "cell_type": "code",
   "execution_count": 31,
   "metadata": {},
   "outputs": [
    {
     "name": "stdout",
     "output_type": "stream",
     "text": [
      "{1: 1, 2: 4, 3: 9, 4: 16, 5: 25}\n"
     ]
    }
   ],
   "source": [
    "# printing  square of numbers in a range\n",
    "x={x:x*x for x in range (1,6)}\n",
    "print(x)"
   ]
  },
  {
   "cell_type": "code",
   "execution_count": 35,
   "metadata": {},
   "outputs": [
    {
     "name": "stdout",
     "output_type": "stream",
     "text": [
      "{1: 1, 2: 8, 3: 27, 4: 64, 5: 125}\n"
     ]
    }
   ],
   "source": [
    "# printing  cube of numbers in a range\n",
    "x={x:x**3 for x in range (1,6)}\n",
    "print(x)"
   ]
  },
  {
   "cell_type": "code",
   "execution_count": 36,
   "metadata": {},
   "outputs": [
    {
     "name": "stdout",
     "output_type": "stream",
     "text": [
      "{1: 1, 3: 27, 5: 125}\n"
     ]
    }
   ],
   "source": [
    "# printing  cube of odd numbers in given range\n",
    "x={x:x**3 for x in range (1,11,2)}\n",
    "print(x)"
   ]
  },
  {
   "cell_type": "code",
   "execution_count": 38,
   "metadata": {},
   "outputs": [
    {
     "name": "stdout",
     "output_type": "stream",
     "text": [
      "{2: 8, 4: 64, 6: 216, 8: 512, 10: 1000}\n"
     ]
    }
   ],
   "source": [
    "# printing cube of even numbers in given range\n",
    "x={x:x**3 for x in range (2,11,2)}\n",
    "print(x)"
   ]
  },
  {
   "cell_type": "code",
   "execution_count": 25,
   "metadata": {},
   "outputs": [
    {
     "data": {
      "text/plain": [
       "['hello', 'world']"
      ]
     },
     "execution_count": 25,
     "metadata": {},
     "output_type": "execute_result"
    }
   ],
   "source": [
    "#split() method\n",
    "s=\"hello world\"\n",
    "s.split()"
   ]
  },
  {
   "cell_type": "code",
   "execution_count": 10,
   "metadata": {},
   "outputs": [
    {
     "name": "stdout",
     "output_type": "stream",
     "text": [
      "['the', 'birds', 'are', 'flying', 'under', 'the', 'blue', 'sky', 'the', 'boy', 'has', 'taken', 'his', 'dog', 'for', 'walk']\n"
     ]
    }
   ],
   "source": [
    "#write a prgm to print strings with for loop \n",
    "# here we split each word by considering spaces using i.split() method\n",
    "p=[\"the birds are flying under the blue sky\",\"the boy has taken his dog for  walk\"]\n",
    "lst=[]\n",
    "for i in p:\n",
    "    for word in i.split():\n",
    "        lst.append(word)\n",
    "print(lst)        \n",
    "        \n",
    "    \n"
   ]
  },
  {
   "cell_type": "code",
   "execution_count": 11,
   "metadata": {},
   "outputs": [
    {
     "name": "stdout",
     "output_type": "stream",
     "text": [
      "[' The birds are flying under the blue sky', 'the boy has taken his dog for  walk']\n"
     ]
    }
   ],
   "source": [
    "#write a prgm to print strings with for loop\n",
    "p=[\" The birds are flying under the blue sky\",\"the boy has taken his dog for  walk\"]\n",
    "lst=[]\n",
    "for i in p:\n",
    "        lst.append(i)\n",
    "print(lst)        \n",
    "        \n",
    "    \n"
   ]
  },
  {
   "cell_type": "code",
   "execution_count": 12,
   "metadata": {},
   "outputs": [
    {
     "name": "stdout",
     "output_type": "stream",
     "text": [
      "[['the', 'birds', 'are', 'flying', 'under', 'the', 'blue', 'sky'], ['the', 'boy', 'has', 'taken', 'his', 'dog', 'for', 'walk']]\n"
     ]
    }
   ],
   "source": [
    "#write a prgm to print\n",
    "p=[\"the birds are flying under the blue sky\",\"the boy has taken his dog for  walk\"]\n",
    "lst=[]\n",
    "for i in p:\n",
    "        lst.append(i.split()) # it will split not only strings but numbers too\n",
    "print(lst)        \n",
    "        \n",
    "    \n"
   ]
  },
  {
   "cell_type": "code",
   "execution_count": 15,
   "metadata": {},
   "outputs": [
    {
     "name": "stdout",
     "output_type": "stream",
     "text": [
      "['the', 'birds', 'are', 'flying', 'under', 'the', 'blue', 'sky', 'the', 'boy', 'has', 'taken', 'his', 'dog', 'for', 'walk']\n"
     ]
    }
   ],
   "source": [
    "#with list comprehension\n",
    "p=[\"the birds are flying under the blue sky\",\"the boy has taken his dog for  walk\"]\n",
    "lst=[word for i in p for word in i.split()]\n",
    "print(lst)"
   ]
  },
  {
   "cell_type": "code",
   "execution_count": 26,
   "metadata": {},
   "outputs": [
    {
     "name": "stdout",
     "output_type": "stream",
     "text": [
      "['hello', 'world', 'i', 'am', 'good']\n"
     ]
    }
   ],
   "source": [
    "a=[\"hello world\",\"i am good\"]\n",
    "res=[j for i in a for j in i.split()]\n",
    "print(res)"
   ]
  },
  {
   "cell_type": "code",
   "execution_count": 17,
   "metadata": {},
   "outputs": [
    {
     "data": {
      "text/plain": [
       "[1, 8, 27, 64, 125]"
      ]
     },
     "execution_count": 17,
     "metadata": {},
     "output_type": "execute_result"
    }
   ],
   "source": [
    "def cube(n):\n",
    "    return n**3\n",
    "ls=[1,2,3,4,5]\n",
    "cubes =[i for i in ls]\n",
    "[cube(i) for i in cubes]"
   ]
  },
  {
   "cell_type": "code",
   "execution_count": 10,
   "metadata": {},
   "outputs": [
    {
     "name": "stdout",
     "output_type": "stream",
     "text": [
      "enter a list of elements: 1 2 3 4 5\n",
      "['1', '2', '3', '4', '5']\n",
      "15\n"
     ]
    }
   ],
   "source": [
    "#how to take user input method for list\n",
    "n=input(\"enter a list of elements: \")\n",
    "#print(n)\n",
    "lst=n.split()\n",
    "print(lst)\n",
    "sum=0\n",
    "for i in lst:\n",
    "    sum +=int(i)\n",
    "print(sum)    \n",
    "\n"
   ]
  },
  {
   "cell_type": "code",
   "execution_count": 2,
   "metadata": {},
   "outputs": [
    {
     "name": "stdout",
     "output_type": "stream",
     "text": [
      "enter a list size: 3\n",
      "enter a number of location:  0 :\n",
      "12\n",
      "enter a number of location:  1 :\n",
      "34\n",
      "enter a number of location:  2 :\n",
      "60\n",
      "[12, 34, 60]\n"
     ]
    }
   ],
   "source": [
    "numlist =[]\n",
    "n=int(input(\"enter a list size: \"))\n",
    "for i in range(0,n):\n",
    "    print(\"enter a number of location: \",i,\":\")\n",
    "    item=int(input())\n",
    "    numlist.append(item) #the items in item are transfered into num list\n",
    "print(numlist)\n",
    "    "
   ]
  },
  {
   "cell_type": "markdown",
   "metadata": {},
   "source": [
    "# Dictionary Comprehension\n",
    "- If we write our code inside a dictionary and the output is printed in the format of dictionary, then it is dictionary comprehension"
   ]
  },
  {
   "cell_type": "code",
   "execution_count": 39,
   "metadata": {},
   "outputs": [
    {
     "name": "stdout",
     "output_type": "stream",
     "text": [
      "{1: 1, 2: 4, 3: 9, 4: 16, 5: 25}\n"
     ]
    }
   ],
   "source": [
    "#{1:1,2:4,3:9,4:16,5:25}\n",
    "\n",
    "d={x:x*x for x in [1,2,3,4,5]}\n",
    "print(d)"
   ]
  },
  {
   "cell_type": "code",
   "execution_count": 40,
   "metadata": {},
   "outputs": [
    {
     "name": "stdout",
     "output_type": "stream",
     "text": [
      "{1: 1, 2: 4, 3: 9, 4: 16, 5: 25}\n"
     ]
    }
   ],
   "source": [
    "d=dict()\n",
    "for i in range(1,6):\n",
    "    d[i]=i*i\n",
    "print(d)"
   ]
  },
  {
   "cell_type": "code",
   "execution_count": 41,
   "metadata": {},
   "outputs": [
    {
     "name": "stdout",
     "output_type": "stream",
     "text": [
      "<zip object at 0x000001697B0E1808>\n"
     ]
    },
    {
     "data": {
      "text/plain": [
       "[(10, 'l'), (20, 'h'), (30, 'k')]"
      ]
     },
     "execution_count": 41,
     "metadata": {},
     "output_type": "execute_result"
    }
   ],
   "source": [
    "n=[10,20,30]\n",
    "l=['l','h','k']\n",
    "z=zip(n,l)\n",
    "print(z)\n",
    "list(z)"
   ]
  },
  {
   "cell_type": "code",
   "execution_count": 42,
   "metadata": {},
   "outputs": [
    {
     "name": "stdout",
     "output_type": "stream",
     "text": [
      "{'A.p': 'Amaravathi', 'Telangana': 'Hyderabad', 'Tamilnadu': 'Chennai'}\n"
     ]
    }
   ],
   "source": [
    "state=[\"A.p\",\"Telangana\",\"Tamilnadu\"]\n",
    "capital=[\"Amaravathi\", \"Hyderabad\",\"Chennai\"]\n",
    "\n",
    "d={}\n",
    "for (key,value) in zip(state,capital):\n",
    "    d[key]=value\n",
    "print(d)"
   ]
  },
  {
   "cell_type": "code",
   "execution_count": 43,
   "metadata": {},
   "outputs": [
    {
     "name": "stdout",
     "output_type": "stream",
     "text": [
      "{'A.p': 'Amaravathi', 'Telangana': 'Hyderabad', 'Tamilnadu': 'Chennai'}\n"
     ]
    }
   ],
   "source": [
    "state=[\"A.p\",\"Telangana\",\"Tamilnadu\"]\n",
    "capital=[\"Amaravathi\", \"Hyderabad\",\"Chennai\"]\n",
    "r={k:v  for (k,v) in zip(state,capital)}\n",
    "print(r)"
   ]
  },
  {
   "cell_type": "code",
   "execution_count": 44,
   "metadata": {},
   "outputs": [
    {
     "name": "stdout",
     "output_type": "stream",
     "text": [
      "{1, 3, 5, 7, 9}\n"
     ]
    }
   ],
   "source": [
    "#Set Comprehension:\n",
    "l=[1,2,3,3,4,5,6,7,7,8,8,9]\n",
    "s=set()\n",
    "for i in l:\n",
    "    if i%2!=0:\n",
    "        s.add(i)\n",
    "print(s)"
   ]
  },
  {
   "cell_type": "code",
   "execution_count": 45,
   "metadata": {},
   "outputs": [
    {
     "name": "stdout",
     "output_type": "stream",
     "text": [
      "{1, 3, 5, 7, 9}\n"
     ]
    }
   ],
   "source": [
    "s={i for i in l if i%2!=0}\n",
    "print(s)"
   ]
  },
  {
   "cell_type": "markdown",
   "metadata": {},
   "source": [
    "# Iterators\n",
    "- Iterator is as same as for loop but the difference is output can be accessed as per requirement\n",
    "- In python iterator is an object that contains number of elements.\n",
    "- It can implement two methods called \"_iter_\" and\"_next_\"\n",
    "- lists,tuple,dict,sets all are iterable objecs."
   ]
  },
  {
   "cell_type": "code",
   "execution_count": 27,
   "metadata": {},
   "outputs": [
    {
     "data": {
      "text/plain": [
       "<list_iterator at 0x1697b0d7c48>"
      ]
     },
     "execution_count": 27,
     "metadata": {},
     "output_type": "execute_result"
    }
   ],
   "source": [
    "l=[i for i in range(1,11)]\n",
    "l_iter=iter(l)\n",
    "l_iter"
   ]
  },
  {
   "cell_type": "code",
   "execution_count": 28,
   "metadata": {},
   "outputs": [
    {
     "data": {
      "text/plain": [
       "1"
      ]
     },
     "execution_count": 28,
     "metadata": {},
     "output_type": "execute_result"
    }
   ],
   "source": [
    "next(l_iter)"
   ]
  },
  {
   "cell_type": "code",
   "execution_count": 30,
   "metadata": {},
   "outputs": [
    {
     "data": {
      "text/plain": [
       "[3, 4, 5, 6, 7, 8, 9, 10]"
      ]
     },
     "execution_count": 30,
     "metadata": {},
     "output_type": "execute_result"
    }
   ],
   "source": [
    "list(l_iter)"
   ]
  },
  {
   "cell_type": "code",
   "execution_count": 1,
   "metadata": {},
   "outputs": [
    {
     "name": "stdout",
     "output_type": "stream",
     "text": [
      "p\n",
      "y\n",
      "t\n"
     ]
    }
   ],
   "source": [
    "s=iter('python')\n",
    "print(next(s))\n",
    "print(next(s))\n",
    "print(next(s))"
   ]
  },
  {
   "cell_type": "code",
   "execution_count": 31,
   "metadata": {},
   "outputs": [
    {
     "name": "stdout",
     "output_type": "stream",
     "text": [
      "1 2 3 4 5 6 7 8 9 10 "
     ]
    }
   ],
   "source": [
    "ite=iter(l)\n",
    "\n",
    "while True:\n",
    "    try:\n",
    "        item=next(ite)\n",
    "        print(item,end=\" \")\n",
    "    except StopIteration:\n",
    "        break"
   ]
  },
  {
   "cell_type": "code",
   "execution_count": 6,
   "metadata": {},
   "outputs": [
    {
     "name": "stdout",
     "output_type": "stream",
     "text": [
      "c\n",
      "java\n",
      "python\n"
     ]
    }
   ],
   "source": [
    "courses=[\"c\",\"java\",\"python\"]\n",
    "result = iter(courses)\n",
    "print(next(result))\n",
    "print(next(result))    \n",
    "print(next(result))  "
   ]
  },
  {
   "cell_type": "markdown",
   "metadata": {},
   "source": [
    "# Generators\n",
    "- Generator are always used in combination with an iterator\n",
    "- we can create iterators using generators in simple approach.\n",
    "- Generator is a function that returns iterators or objexts. It uses yield instead of return."
   ]
  },
  {
   "cell_type": "code",
   "execution_count": 32,
   "metadata": {},
   "outputs": [
    {
     "name": "stdout",
     "output_type": "stream",
     "text": [
      "5\n"
     ]
    },
    {
     "data": {
      "text/plain": [
       "25"
      ]
     },
     "execution_count": 32,
     "metadata": {},
     "output_type": "execute_result"
    }
   ],
   "source": [
    "#Square of a given number \n",
    "n=int(input())\n",
    "def gen(n):\n",
    "    while True:\n",
    "        n **= 2\n",
    "        yield n\n",
    "g=gen(n)\n",
    "next(g)"
   ]
  },
  {
   "cell_type": "code",
   "execution_count": 1,
   "metadata": {},
   "outputs": [
    {
     "name": "stdout",
     "output_type": "stream",
     "text": [
      "1\n",
      "2\n",
      "3\n"
     ]
    }
   ],
   "source": [
    "def generator():\n",
    "    yield 1\n",
    "    yield 2\n",
    "    yield 3\n",
    "for value in generator():\n",
    "    print(value)"
   ]
  },
  {
   "cell_type": "code",
   "execution_count": 34,
   "metadata": {},
   "outputs": [
    {
     "name": "stdout",
     "output_type": "stream",
     "text": [
      "ap\n",
      "2\n",
      "3.5\n"
     ]
    }
   ],
   "source": [
    "def generator():\n",
    "    yield \"ap\"\n",
    "    yield 2\n",
    "    yield 3.5\n",
    "for value in generator():\n",
    "    print(value)"
   ]
  },
  {
   "cell_type": "code",
   "execution_count": 35,
   "metadata": {},
   "outputs": [
    {
     "name": "stdout",
     "output_type": "stream",
     "text": [
      "<generator object <genexpr> at 0x000001697B0C04C8>\n"
     ]
    }
   ],
   "source": [
    "#Generator comprehension\n",
    "\n",
    "l=[1,2,3,4,5]\n",
    "c=(i**3 for i in l)\n",
    "print(c)"
   ]
  },
  {
   "cell_type": "code",
   "execution_count": 36,
   "metadata": {},
   "outputs": [
    {
     "name": "stdout",
     "output_type": "stream",
     "text": [
      "1\n",
      "8\n",
      "27\n",
      "64\n",
      "125\n"
     ]
    }
   ],
   "source": [
    "for i in c:\n",
    "    print(i)"
   ]
  },
  {
   "cell_type": "code",
   "execution_count": 3,
   "metadata": {},
   "outputs": [
    {
     "name": "stdout",
     "output_type": "stream",
     "text": [
      "4\n",
      "16\n",
      "256\n",
      "65536\n",
      "4294967296\n"
     ]
    }
   ],
   "source": [
    "def gen():\n",
    "    n=2\n",
    "    while True:\n",
    "        n **=2\n",
    "        yield n\n",
    "a=gen()\n",
    "for i in range (5):\n",
    "    print(next(a))"
   ]
  },
  {
   "cell_type": "code",
   "execution_count": null,
   "metadata": {},
   "outputs": [],
   "source": []
  }
 ],
 "metadata": {
  "kernelspec": {
   "display_name": "Python 3",
   "language": "python",
   "name": "python3"
  },
  "language_info": {
   "codemirror_mode": {
    "name": "ipython",
    "version": 3
   },
   "file_extension": ".py",
   "mimetype": "text/x-python",
   "name": "python",
   "nbconvert_exporter": "python",
   "pygments_lexer": "ipython3",
   "version": "3.7.6"
  }
 },
 "nbformat": 4,
 "nbformat_minor": 4
}
