{
 "cells": [
  {
   "cell_type": "markdown",
   "metadata": {},
   "source": [
    "###  MODULE\n",
    "- collection of functions\n",
    "### Package\n",
    "- collection of modules"
   ]
  },
  {
   "cell_type": "code",
   "execution_count": 1,
   "metadata": {},
   "outputs": [],
   "source": [
    "import math\n",
    "math.sqrt(100)\n"
   ]
  },
  {
   "cell_type": "code",
   "execution_count": 2,
   "metadata": {},
   "outputs": [
    {
     "data": {
      "text/plain": [
       "6.0"
      ]
     },
     "execution_count": 2,
     "metadata": {},
     "output_type": "execute_result"
    }
   ],
   "source": [
    "#from package import module\n",
    "from math import sqrt\n",
    "sqrt(36)"
   ]
  },
  {
   "cell_type": "code",
   "execution_count": 3,
   "metadata": {},
   "outputs": [
    {
     "data": {
      "text/plain": [
       "5"
      ]
     },
     "execution_count": 3,
     "metadata": {},
     "output_type": "execute_result"
    }
   ],
   "source": [
    "from random import randrange as a1\n",
    "a1(1,10)"
   ]
  },
  {
   "cell_type": "code",
   "execution_count": 4,
   "metadata": {},
   "outputs": [
    {
     "data": {
      "text/plain": [
       "5"
      ]
     },
     "execution_count": 4,
     "metadata": {},
     "output_type": "execute_result"
    }
   ],
   "source": [
    "from random import randint\n",
    "randint(1,18)"
   ]
  },
  {
   "cell_type": "markdown",
   "metadata": {},
   "source": [
    "# Regular Expression\n",
    "- Regular expression is pattern for findig or matching a substrig in a string\n",
    "- It can also be called as re,regex\n",
    "- A regular expression is a swquence of characters that match a pattrn\n",
    "- its a symbolic representation."
   ]
  },
  {
   "cell_type": "markdown",
   "metadata": {},
   "source": [
    "- character usage\n",
    "- []        represent a character\n",
    "- ^         matches the begining\n",
    "- *         zero or more ocurance\n",
    "- +         one or more occurance\n",
    "- .         matches a character\n",
    "- {}        range set\n",
    "- |         or\n",
    "- [A-Z a-z] alphabet range\n",
    "- [0 - 9]   digits\n",
    "\n"
   ]
  },
  {
   "cell_type": "markdown",
   "metadata": {},
   "source": [
    "- $     matching the ending"
   ]
  },
  {
   "cell_type": "markdown",
   "metadata": {},
   "source": [
    "### methods\n",
    "- search() #it will search char until it is found\n",
    "- match() #only search for first character\n",
    "- findall() # find how many chars in a word"
   ]
  },
  {
   "cell_type": "code",
   "execution_count": 5,
   "metadata": {},
   "outputs": [
    {
     "data": {
      "text/plain": [
       "<re.Match object; span=(3, 5), match='ho'>"
      ]
     },
     "execution_count": 5,
     "metadata": {},
     "output_type": "execute_result"
    }
   ],
   "source": [
    "import re\n",
    "re.search(\"ho\",\"python\")"
   ]
  },
  {
   "cell_type": "code",
   "execution_count": 6,
   "metadata": {},
   "outputs": [],
   "source": [
    "re.search(\"j\",\"python\")"
   ]
  },
  {
   "cell_type": "code",
   "execution_count": 7,
   "metadata": {},
   "outputs": [],
   "source": [
    "re.match(\"o\",\"python\") # it will match for only first character"
   ]
  },
  {
   "cell_type": "code",
   "execution_count": 8,
   "metadata": {},
   "outputs": [
    {
     "data": {
      "text/plain": [
       "<re.Match object; span=(0, 1), match='p'>"
      ]
     },
     "execution_count": 8,
     "metadata": {},
     "output_type": "execute_result"
    }
   ],
   "source": [
    "re.match(\"p\",\"python\")"
   ]
  },
  {
   "cell_type": "code",
   "execution_count": 9,
   "metadata": {},
   "outputs": [
    {
     "data": {
      "text/plain": [
       "<re.Match object; span=(0, 6), match='python'>"
      ]
     },
     "execution_count": 9,
     "metadata": {},
     "output_type": "execute_result"
    }
   ],
   "source": [
    "re.match(\"python\",\"python\")"
   ]
  },
  {
   "cell_type": "code",
   "execution_count": 10,
   "metadata": {},
   "outputs": [
    {
     "data": {
      "text/plain": [
       "<re.Match object; span=(1, 2), match='o'>"
      ]
     },
     "execution_count": 10,
     "metadata": {},
     "output_type": "execute_result"
    }
   ],
   "source": [
    "re.search(\"o\",\"workshop\") #it will show only one index"
   ]
  },
  {
   "cell_type": "code",
   "execution_count": 11,
   "metadata": {},
   "outputs": [
    {
     "data": {
      "text/plain": [
       "['o', 'o']"
      ]
     },
     "execution_count": 11,
     "metadata": {},
     "output_type": "execute_result"
    }
   ],
   "source": [
    "re.findall(\"o\",\"workshop\")\n"
   ]
  },
  {
   "cell_type": "code",
   "execution_count": 12,
   "metadata": {},
   "outputs": [
    {
     "name": "stdout",
     "output_type": "stream",
     "text": [
      "enteranusha\n",
      "True\n"
     ]
    }
   ],
   "source": [
    "# adhya\n",
    "# aradhana\n",
    "# anusha\n",
    "pattern='^[a][a-z]*[a]$'\n",
    "string=input(\"enter\") #it will consider only when it start with a or end with a\n",
    "if re.match(pattern,string):\n",
    "    print(\"True\") \n",
    "else:\n",
    "    print(\"false\")    "
   ]
  },
  {
   "cell_type": "code",
   "execution_count": 13,
   "metadata": {},
   "outputs": [],
   "source": [
    "# phone number validator\n",
    "#1 0 digits - 6789\n",
    "#            - ^[6-9][0-9]{9}$\n",
    "# 11 digits  - 0 10 digits\n",
    "#            -^[0][6-9][0-9]{9}$\n",
    "# 12 digit            - +916789012345\n",
    "#              - ^[+][9][1][6-9][0-9]{9}$"
   ]
  },
  {
   "cell_type": "code",
   "execution_count": 14,
   "metadata": {},
   "outputs": [
    {
     "name": "stdout",
     "output_type": "stream",
     "text": [
      "enter6789123456\n",
      "True\n"
     ]
    }
   ],
   "source": [
    "pattern = '^[6-9][0-9]{9}$|^[0][6-9][0-9]{9}$|^[+][9][1][6-9][0-9]{9}$'\n",
    "string = input(\"enter\")\n",
    "if re.match(pattern,string):\n",
    "    print(\"True\")\n",
    "else:print(\"False\")"
   ]
  },
  {
   "cell_type": "code",
   "execution_count": 15,
   "metadata": {},
   "outputs": [],
   "source": [
    "# email validation\n",
    "#abcdgj56.p@gmail.com\n",
    "#username@domain.extension\n",
    "#username - contains digits,alphabets,_,.,6, 16 characters\n",
    "#       - ^[0-9a-z][0-9a-z_.]{5,15}[0-9a-z]\n",
    "# domain  - alphabet,digits -5,12 characters\n",
    "#       - [a-z0-9]{5,12}\n",
    "#wxtension - contain only alphabet -2,5 characters\n",
    "#           -[a-z]{2,5}"
   ]
  },
  {
   "cell_type": "code",
   "execution_count": 16,
   "metadata": {},
   "outputs": [
    {
     "name": "stdout",
     "output_type": "stream",
     "text": [
      "enterabcdgj56.p@gmail.com\n",
      "True\n"
     ]
    }
   ],
   "source": [
    "pattern = '^[0-9a-z][0-9a-z_.]{5,15}[0-9a-z][@][a-z0-9]{5,12}[.][a-z]{2,5}$'\n",
    "string = input(\"enter\")\n",
    "if re.match(pattern,string):\n",
    "    print(\"True\")\n",
    "else:print(\"False\")"
   ]
  },
  {
   "cell_type": "markdown",
   "metadata": {},
   "source": [
    "### File handling\n",
    "- file is a collection of information and allows user tpo read,write and to append files\n",
    "### step in file handling\n",
    "- open the file\n",
    "- perform the operation(s)\n",
    "- close the file"
   ]
  },
  {
   "cell_type": "code",
   "execution_count": 17,
   "metadata": {},
   "outputs": [
    {
     "name": "stdout",
     "output_type": "stream",
     "text": [
      "iam data txt file\n"
     ]
    }
   ],
   "source": [
    "f= open(\"data.txt\")\n",
    "fh = f.read()\n",
    "print(fh)\n",
    "f.close()"
   ]
  },
  {
   "cell_type": "code",
   "execution_count": 18,
   "metadata": {},
   "outputs": [
    {
     "name": "stdout",
     "output_type": "stream",
     "text": [
      "iam data txt file\n"
     ]
    }
   ],
   "source": [
    "with open(\"data.txt\",'r')as f1:\n",
    "    fh1=f1.read()\n",
    "    print(fh1)"
   ]
  },
  {
   "cell_type": "code",
   "execution_count": 23,
   "metadata": {},
   "outputs": [],
   "source": [
    "with open(\"sample.txt\",'w') as f2:\n",
    "    fw=f2.write(\"python\")\n",
    "    "
   ]
  },
  {
   "cell_type": "code",
   "execution_count": 3,
   "metadata": {},
   "outputs": [],
   "source": [
    "with open(\"sample.txt\",'a') as f2: # appending will add at end of data\n",
    "    fw=f2.write(\"Apssdc online trainng\")\n",
    "    "
   ]
  },
  {
   "cell_type": "code",
   "execution_count": 12,
   "metadata": {},
   "outputs": [
    {
     "name": "stdout",
     "output_type": "stream",
     "text": [
      "\n",
      "0\n",
      "0\n",
      "0\n"
     ]
    }
   ],
   "source": [
    "f = open(\"Datafiles/example.txt\",'r')\n",
    "fk=f.read()\n",
    "print(fk)\n",
    "print(f.tell())\n",
    "print(f.seek(0))\n",
    "print(f.tell())"
   ]
  },
  {
   "cell_type": "code",
   "execution_count": 13,
   "metadata": {},
   "outputs": [
    {
     "name": "stdout",
     "output_type": "stream",
     "text": [
      "[]\n"
     ]
    }
   ],
   "source": [
    "f=open(\"Datafiles/example.txt\",'r')\n",
    "fr=f.readlines()\n",
    "print(fr)\n"
   ]
  },
  {
   "cell_type": "code",
   "execution_count": 30,
   "metadata": {},
   "outputs": [
    {
     "name": "stdout",
     "output_type": "stream",
     "text": [
      "['pythonApssdc', 'online', 'trainng']\n"
     ]
    }
   ],
   "source": [
    "with open(\"sample.txt\") as fs:\n",
    "    fh = fs.read()\n",
    "    words = fh.split()\n",
    "    print(words)\n",
    "    "
   ]
  },
  {
   "cell_type": "code",
   "execution_count": 31,
   "metadata": {},
   "outputs": [
    {
     "name": "stdout",
     "output_type": "stream",
     "text": [
      "['pyth', 'nApssdc ', 'nline trainng']\n"
     ]
    }
   ],
   "source": [
    "with open(\"sample.txt\") as fs:\n",
    "    fh = fs.read()\n",
    "    words = fh.split(\"o\")\n",
    "    print(words)\n",
    "    "
   ]
  },
  {
   "cell_type": "code",
   "execution_count": null,
   "metadata": {},
   "outputs": [],
   "source": [
    "#find line count ,word count,character count\n"
   ]
  }
 ],
 "metadata": {
  "kernelspec": {
   "display_name": "Python 3",
   "language": "python",
   "name": "python3"
  },
  "language_info": {
   "codemirror_mode": {
    "name": "ipython",
    "version": 3
   },
   "file_extension": ".py",
   "mimetype": "text/x-python",
   "name": "python",
   "nbconvert_exporter": "python",
   "pygments_lexer": "ipython3",
   "version": "3.7.6"
  }
 },
 "nbformat": 4,
 "nbformat_minor": 4
}
