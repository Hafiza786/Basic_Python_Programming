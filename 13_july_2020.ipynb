{
 "cells": [
  {
   "cell_type": "markdown",
   "metadata": {},
   "source": [
    "# Python\n",
    "## Python Introduction\n",
    "### Advantages"
   ]
  },
  {
   "cell_type": "code",
   "execution_count": 1,
   "metadata": {},
   "outputs": [
    {
     "name": "stdout",
     "output_type": "stream",
     "text": [
      "enter x value 25\n",
      "enter y value49\n",
      "-24\n"
     ]
    }
   ],
   "source": [
    "# Addition Of Two Numbers\n",
    "'''x=int(input(\"enter x value \"))\n",
    "y=int(input(\"enter y value\"))\n",
    "z=x+y\n",
    "print(z)'''\n",
    "#subtraction of two numbers\n",
    "x=int(input(\"enter x value \"))\n",
    "y=int(input(\"enter y value\"))\n",
    "z=x-y\n",
    "print(z)\n",
    "\n"
   ]
  },
  {
   "cell_type": "code",
   "execution_count": 2,
   "metadata": {},
   "outputs": [
    {
     "name": "stdout",
     "output_type": "stream",
     "text": [
      "50\n"
     ]
    }
   ],
   "source": [
    "\n",
    "#multiplication of two numbers\n",
    "x=10\n",
    "y=5\n",
    "z=x*y\n",
    "print(z)\n",
    "\n"
   ]
  },
  {
   "cell_type": "markdown",
   "metadata": {},
   "source": [
    "# Advantages\n",
    "- object oriented programming\n",
    "- simple to use\n",
    "- **Best for ML & DS**\n",
    "- *Huge colection of packages*"
   ]
  }
 ],
 "metadata": {
  "kernelspec": {
   "display_name": "Python 3",
   "language": "python",
   "name": "python3"
  },
  "language_info": {
   "codemirror_mode": {
    "name": "ipython",
    "version": 3
   },
   "file_extension": ".py",
   "mimetype": "text/x-python",
   "name": "python",
   "nbconvert_exporter": "python",
   "pygments_lexer": "ipython3",
   "version": "3.7.6"
  }
 },
 "nbformat": 4,
 "nbformat_minor": 4
}
