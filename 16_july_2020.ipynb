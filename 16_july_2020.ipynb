{
 "cells": [
  {
   "cell_type": "markdown",
   "metadata": {},
   "source": [
    "# Functions\n",
    "- A function is a set of statements that take inputs, do some specific computation and produces output. \n",
    "### Predefined functions\n",
    "- print(),input(),type(),range(),int(),float(),str(),min(),max(),chr(),ord(),len()\n",
    "- list(),tuple(),set(),bool()\n",
    "### user defined functions\n",
    "- Requiredof arguments\n",
    "- Keyword arguments\n",
    "- default arguments\n",
    "- Variable length arguments\n",
    "##### syntax\n",
    " - **def functionname(parameters):**\n",
    " -      statements\n",
    "  -   functionname(parameters)"
   ]
  },
  {
   "cell_type": "code",
   "execution_count": 1,
   "metadata": {},
   "outputs": [
    {
     "data": {
      "text/plain": [
       "(' ', 't', '0', '4')"
      ]
     },
     "execution_count": 1,
     "metadata": {},
     "output_type": "execute_result"
    }
   ],
   "source": [
    " i = \"12340\"\n",
    "s = \"this is string\" #according to ASCII values\n",
    "min(s),max(s),min(i),max(i)"
   ]
  },
  {
   "cell_type": "code",
   "execution_count": 2,
   "metadata": {},
   "outputs": [
    {
     "data": {
      "text/plain": [
       "('1', str)"
      ]
     },
     "execution_count": 2,
     "metadata": {},
     "output_type": "execute_result"
    }
   ],
   "source": [
    "k=123\n",
    "k=str(k)\n",
    "min(k),type(k)\n"
   ]
  },
  {
   "cell_type": "code",
   "execution_count": 3,
   "metadata": {},
   "outputs": [
    {
     "data": {
      "text/plain": [
       "' '"
      ]
     },
     "execution_count": 3,
     "metadata": {},
     "output_type": "execute_result"
    }
   ],
   "source": [
    "chr(32) #ASCII value of space is 32"
   ]
  },
  {
   "cell_type": "code",
   "execution_count": 4,
   "metadata": {},
   "outputs": [
    {
     "data": {
      "text/plain": [
       "52"
      ]
     },
     "execution_count": 4,
     "metadata": {},
     "output_type": "execute_result"
    }
   ],
   "source": [
    "ord('a')\n",
    "ord('4')"
   ]
  },
  {
   "cell_type": "code",
   "execution_count": 5,
   "metadata": {},
   "outputs": [],
   "source": [
    "def message(m):\n",
    "    print(m) \n",
    "    \n",
    "m = \"this is function\""
   ]
  },
  {
   "cell_type": "code",
   "execution_count": 6,
   "metadata": {},
   "outputs": [
    {
     "name": "stdout",
     "output_type": "stream",
     "text": [
      "this is function\n"
     ]
    }
   ],
   "source": [
    "message(m)"
   ]
  },
  {
   "cell_type": "code",
   "execution_count": null,
   "metadata": {},
   "outputs": [],
   "source": [
    "# in function definition and function call number of parameters should be equal\n",
    "def add(a,b):\n",
    "    c=a+b\n",
    "    return c\n",
    "#add(2,3) #if we remove one parameter we get erroe because we had defined 2 parameters\n",
    "\n",
    "#k=add(2,3)\n",
    "#print(k)\n",
    "\n",
    "# a=int(input(\"enter a\"))\n",
    "#  b=int(input(\"enter b\"))\n",
    "#add(a,b)\n",
    "add(int(input(\"enter a\")),int(input(\"enter b\")))\n"
   ]
  },
  {
   "cell_type": "code",
   "execution_count": null,
   "metadata": {},
   "outputs": [],
   "source": [
    "\n",
    "#keyword arguments\n",
    "def arguments(a,b,c):\n",
    "    print(a,b,c)\n",
    "    \n",
    "arguments(123,\"string\",34.67)"
   ]
  },
  {
   "cell_type": "code",
   "execution_count": null,
   "metadata": {},
   "outputs": [],
   "source": [
    "def arguments(a,b,c):\n",
    "    print(a)\n",
    "    print(b)\n",
    "    print(c)\n",
    "    \n",
    "arguments(123,\"string\",34.67)"
   ]
  },
  {
   "cell_type": "code",
   "execution_count": null,
   "metadata": {},
   "outputs": [],
   "source": [
    "def arguments(a,b,c):\n",
    "    print(a)\n",
    "    print(b)\n",
    "    print(c)\n",
    "    \n",
    "arguments(c=123,a=\"string\",b=34.67)"
   ]
  },
  {
   "cell_type": "code",
   "execution_count": null,
   "metadata": {},
   "outputs": [],
   "source": [
    "# default arguments\n",
    "def defaultargs(a=\"2345\",n=890,m=356.98,b=\"python\"):\n",
    "    print(a,b)\n",
    "    print(n)\n",
    "    print(m)\n",
    "#defaultargs(1,2,3,4)\n",
    "\n",
    "#defaultargs(23,24,\"hello\")\n",
    "\n",
    "#defaultargs(\"function\")\n",
    "\n",
    "defaultargs(\"python\",\"programming\")\n",
    "\n",
    "\n",
    "#defaultargs()   \n"
   ]
  },
  {
   "cell_type": "code",
   "execution_count": null,
   "metadata": {},
   "outputs": [],
   "source": [
    "#variable length argument\n",
    "def variable(a,b,*n):\n",
    "    print(a,b)\n",
    "    print(n)\n",
    "variable(1,22,78,3,4,6,78,565,9,778,3,4,55)    "
   ]
  },
  {
   "cell_type": "code",
   "execution_count": null,
   "metadata": {},
   "outputs": [],
   "source": [
    "#variable length argument\n",
    "def variable(a,b,*n,c):\n",
    "    print(a,b) # variable length argument should be in last\n",
    "    print(n)\n",
    "    print(c)\n",
    "variable(1,22,78,3,4,6,78,565,9,778,3,4,55)    "
   ]
  },
  {
   "cell_type": "code",
   "execution_count": null,
   "metadata": {},
   "outputs": [],
   "source": [
    "#calculator\n",
    "def add(x, y):\n",
    "    return x + y\n",
    "\n",
    "def subtract(x, y):\n",
    "    return x - y\n",
    "\n",
    "def multiply(x, y):\n",
    "    return x * y\n",
    "\n",
    "def divide(x, y):\n",
    "    return x / y\n",
    "\n",
    "print(\"Select operation\")\n",
    "print(\"1.Add\",\"2.Subtract\",\"3.Multiply\",\"4.Divide\")\n",
    "choice = input(\"enter choice(1/2/3/4)\")\n",
    "\n",
    "\n",
    "num1 = int(input(\"enter first number \"))\n",
    "num2 = int(input(\"enter second number \"))\n",
    "if choice=='1':\n",
    "    print(num1,\"+\",num2,\"=\",add(num1,num2))\n",
    "    \n",
    "elif choice=='2':\n",
    "    print(num1,\"-\",num2,\"=\",subtract(num1,num2))\n",
    "    \n",
    "elif choice=='3':\n",
    "    print(num1,\"*\",num2,\"=\",multiply(num1,num2))\n",
    "    \n",
    "elif choice=='4':\n",
    "    print(num1,\"/\",num2,\"=\",divide(num1,num2))\n",
    "    \n",
    "else:\n",
    "    print(\"invalid choice\")\n",
    "\n",
    "\n"
   ]
  },
  {
   "cell_type": "code",
   "execution_count": null,
   "metadata": {},
   "outputs": [],
   "source": [
    "#factorial\n",
    "def factorial(num):\n",
    "    fact=1\n",
    "    for i in range(1,num+1):\n",
    "        fact=fact*i\n",
    "    return fact\n",
    "num=int(input(\"enter number\"))\n",
    "result=factorial(num)\n",
    "print(\"the factorial is\",result)\n",
    "if num<0:\n",
    "    print(\"fact doesnot exist\")\n",
    "\n",
    "    "
   ]
  },
  {
   "cell_type": "code",
   "execution_count": 7,
   "metadata": {},
   "outputs": [
    {
     "name": "stdout",
     "output_type": "stream",
     "text": [
      "enter number987\n",
      "789the reverse number is None\n"
     ]
    }
   ],
   "source": [
    "#reverse of a given number\n",
    "def Reverse(n):\n",
    "    while(n>0):\n",
    "        rem=n%10\n",
    "        print(rem,end=\"\")\n",
    "        n=n//10\n",
    "n=int(input(\"enter number\"))\n",
    "result=Reverse(n)\n",
    "print(\"the reverse number is\",result)      "
   ]
  },
  {
   "cell_type": "code",
   "execution_count": 6,
   "metadata": {},
   "outputs": [
    {
     "name": "stdout",
     "output_type": "stream",
     "text": [
      "enter number:1234\n",
      "10\n"
     ]
    }
   ],
   "source": [
    "#sum of digits in a given number\n",
    "def sumofnumber(n):\n",
    "    sum=0\n",
    "    while(n>0):\n",
    "        rem=n%10\n",
    "        sum=sum+rem\n",
    "        n=n//10\n",
    "    print(sum)\n",
    "n=int(input(\"enter number:\"))\n",
    "sumofnumber(n)\n",
    "\n",
    "\n",
    "#done its wroking"
   ]
  },
  {
   "cell_type": "code",
   "execution_count": 58,
   "metadata": {},
   "outputs": [
    {
     "name": "stdout",
     "output_type": "stream",
     "text": [
      "enter number8\n",
      "1\n",
      "\n",
      "1 1\n",
      "\n",
      "1 2 1\n",
      "\n",
      "1 2 3 1\n",
      "\n",
      "1 2 3 4 1\n",
      "\n",
      "1 2 3 4 5 1\n",
      "\n",
      "1 2 3 4 5 6 1\n",
      "\n"
     ]
    }
   ],
   "source": [
    "def printpascal(n):\n",
    "    n=int(input(\"enter number\"))\n",
    "    for i in range(1,n):\n",
    "        for j in range(1,i):\n",
    "             print(j,end=\" \")\n",
    "        print(\"1\\n\")\n",
    "printpascal(n)        "
   ]
  },
  {
   "cell_type": "code",
   "execution_count": null,
   "metadata": {},
   "outputs": [],
   "source": []
  },
  {
   "cell_type": "code",
   "execution_count": null,
   "metadata": {},
   "outputs": [],
   "source": []
  },
  {
   "cell_type": "code",
   "execution_count": null,
   "metadata": {},
   "outputs": [],
   "source": []
  },
  {
   "cell_type": "code",
   "execution_count": null,
   "metadata": {},
   "outputs": [],
   "source": []
  }
 ],
 "metadata": {
  "kernelspec": {
   "display_name": "Python 3",
   "language": "python",
   "name": "python3"
  },
  "language_info": {
   "codemirror_mode": {
    "name": "ipython",
    "version": 3
   },
   "file_extension": ".py",
   "mimetype": "text/x-python",
   "name": "python",
   "nbconvert_exporter": "python",
   "pygments_lexer": "ipython3",
   "version": "3.7.6"
  }
 },
 "nbformat": 4,
 "nbformat_minor": 4
}
