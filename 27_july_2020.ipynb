{
 "cells": [
  {
   "cell_type": "markdown",
   "metadata": {},
   "source": [
    "# Object oriented Programming\n",
    "### Object\n",
    "- Physical existance of a class is nithing but an object\n",
    "### class\n",
    "- collection of variables and methods\n",
    "### Variable\n",
    "- properties are represented as variables in class\n",
    "### methods\n",
    "- actios to be done is represented by method"
   ]
  },
  {
   "cell_type": "code",
   "execution_count": 18,
   "metadata": {},
   "outputs": [
    {
     "data": {
      "text/plain": [
       "<__main__.sample at 0x21e90cecbc8>"
      ]
     },
     "execution_count": 18,
     "metadata": {},
     "output_type": "execute_result"
    }
   ],
   "source": [
    "class sample:\n",
    "    ''' this is a sample class'''\n",
    "a=sample()\n",
    "a"
   ]
  },
  {
   "cell_type": "code",
   "execution_count": 19,
   "metadata": {},
   "outputs": [
    {
     "data": {
      "text/plain": [
       "2330301746120"
      ]
     },
     "execution_count": 19,
     "metadata": {},
     "output_type": "execute_result"
    }
   ],
   "source": [
    "id(a)"
   ]
  },
  {
   "cell_type": "code",
   "execution_count": 38,
   "metadata": {},
   "outputs": [
    {
     "data": {
      "text/plain": [
       "' this is a sample class'"
      ]
     },
     "execution_count": 38,
     "metadata": {},
     "output_type": "execute_result"
    }
   ],
   "source": [
    "a.__doc__"
   ]
  },
  {
   "cell_type": "code",
   "execution_count": 40,
   "metadata": {},
   "outputs": [
    {
     "data": {
      "text/plain": [
       "<__main__.example at 0x253689a5188>"
      ]
     },
     "execution_count": 40,
     "metadata": {},
     "output_type": "execute_result"
    }
   ],
   "source": [
    "class example: #it just execute and move out of the class\n",
    "    pass    \n",
    "b=example()\n",
    "b"
   ]
  },
  {
   "cell_type": "code",
   "execution_count": 43,
   "metadata": {},
   "outputs": [
    {
     "name": "stdout",
     "output_type": "stream",
     "text": [
      "in init constructor\n"
     ]
    }
   ],
   "source": [
    "class student:\n",
    "    def __init__(self,sname,rollno):\n",
    "        self.sname=sname\n",
    "        self.rollno=rollno\n",
    "        print(\"in init constructor\")\n",
    "s= student('priya',123)        "
   ]
  },
  {
   "cell_type": "code",
   "execution_count": null,
   "metadata": {},
   "outputs": [],
   "source": []
  },
  {
   "cell_type": "markdown",
   "metadata": {},
   "source": [
    "- init- init is called by default when an object is created for a class.\n",
    "### self\n",
    "- first argument for the constructor.\n",
    "- points to the current object.\n",
    "- no need to provide value for delf argument at the time of object creation.\n",
    "- default argument which refers to object in the class"
   ]
  },
  {
   "cell_type": "code",
   "execution_count": 8,
   "metadata": {},
   "outputs": [
    {
     "name": "stdout",
     "output_type": "stream",
     "text": [
      "in init constructor\n"
     ]
    }
   ],
   "source": [
    "class student:\n",
    "    def __init__(self,sname,rollno): #self is default and it should be first argument\n",
    "                                     #in class when we use a class it must be called but by using init function it will automaticly called\n",
    "        self.sname=sname            #to avoid calling of function we use it \n",
    "        self.rollno=rollno          #we use this to point to the current function\n",
    "        print(\"in init constructor\")\n",
    "                    \n",
    "s= student('priya',123)        "
   ]
  },
  {
   "cell_type": "code",
   "execution_count": 7,
   "metadata": {},
   "outputs": [
    {
     "name": "stdout",
     "output_type": "stream",
     "text": [
      "in init constructor\n",
      "priya 123\n"
     ]
    }
   ],
   "source": [
    "class student:\n",
    "    def __init__(self,sname,rollno): #in class when we use a class it must be called but by using init function it will automaticly called\n",
    "        self.sname=sname            #to avoid calling of function we use it \n",
    "        self.rollno=rollno\n",
    "        print(\"in init constructor\")\n",
    "    def display(self):\n",
    "        print(self.sname,self.rollno)\n",
    "s= student('priya',123)\n",
    "s.display()"
   ]
  },
  {
   "cell_type": "code",
   "execution_count": 16,
   "metadata": {},
   "outputs": [
    {
     "name": "stdout",
     "output_type": "stream",
     "text": [
      "values are taken\n",
      "22\n",
      "enter arg1 150\n",
      "enter arg2280\n",
      "values are taken\n",
      "430\n"
     ]
    }
   ],
   "source": [
    "#\n",
    "class calci:\n",
    "    def __init__(self,arg1,arg2):\n",
    "        self.arg1=arg1\n",
    "        self.arg2=arg2\n",
    "        print(\"values are taken\")\n",
    "    def add(self):\n",
    "        print(self.arg1+self.arg2)\n",
    "        \n",
    "ob1=calci(12,10)\n",
    "ob1.add()\n",
    "ob2=calci(int(input(\"enter arg1\")),int(input(\"enter arg2\")))\n",
    "ob2.add()"
   ]
  },
  {
   "cell_type": "code",
   "execution_count": 17,
   "metadata": {},
   "outputs": [
    {
     "name": "stdout",
     "output_type": "stream",
     "text": [
      "values are taken\n",
      "22\n",
      "2\n",
      "120\n",
      "2\n",
      "enter arg120\n",
      "enter arg25\n",
      "values are taken\n",
      "25\n",
      "15\n",
      "100\n",
      "0\n"
     ]
    }
   ],
   "source": [
    "#\n",
    "class calci:\n",
    "    def __init__(self,arg1,arg2):\n",
    "        self.arg1=arg1\n",
    "        self.arg2=arg2\n",
    "        print(\"values are taken\")\n",
    "    def add(self):\n",
    "        print(self.arg1+self.arg2)\n",
    "    def sub(self):\n",
    "        print(self.arg1-self.arg2)\n",
    "    def mul(self):\n",
    "        print(self.arg1*self.arg2)\n",
    "    def mod(self):\n",
    "        print(self.arg1%self.arg2)\n",
    "        \n",
    "ob1=calci(12,10)\n",
    "ob1.add()\n",
    "ob1.sub()\n",
    "ob1.mul()\n",
    "ob1.mod()\n",
    "ob2=calci(int(input(\"enter arg1\")),int(input(\"enter arg2\")))\n",
    "ob2.add()\n",
    "ob2.sub()\n",
    "ob2.mul()\n",
    "ob2.mod()"
   ]
  },
  {
   "cell_type": "markdown",
   "metadata": {},
   "source": [
    "### types od methods\n",
    "- instance method\n",
    "- class method\n",
    "- static method\n"
   ]
  },
  {
   "cell_type": "code",
   "execution_count": 23,
   "metadata": {},
   "outputs": [
    {
     "name": "stdout",
     "output_type": "stream",
     "text": [
      "fiza 126 56\n",
      "corporation is:APSSDC\n",
      "enter10\n",
      "enter5\n",
      "2\n"
     ]
    }
   ],
   "source": [
    "class Employee:\n",
    "    corp=\"APSSDC\"\n",
    "    def __init__(self,ename,eid,esalary): #init is indirectinstance function\n",
    "        self.ename=ename\n",
    "        self.eid=eid\n",
    "        self.esalary=esalary\n",
    "        \n",
    "    def show(self):  # instance method\n",
    "         print(self.ename,self.eid,self.esalary)\n",
    "    def corporation(cls): #class method\n",
    "        print(\"corporation is:\"+cls.corp) #in place of cls(object used to access class variable) we can print temp\n",
    "    def div(a,b): #static method\n",
    "        print(a//b)\n",
    "            \n",
    "e= Employee(\"fiza\",126,56)\n",
    "e.show()\n",
    "e.corporation()\n",
    "Employee.div(int(input(\"enter\")),int(input(\"enter\")))\n"
   ]
  },
  {
   "cell_type": "markdown",
   "metadata": {},
   "source": [
    "# Inheritance \n",
    "- Acquiring properties from parent class to child class\n",
    "- reusability\n",
    "## Types of inheritance\n",
    "- single\n",
    "- multiple\n",
    "- multilevel\n",
    "- hierachical\n"
   ]
  },
  {
   "cell_type": "code",
   "execution_count": 28,
   "metadata": {},
   "outputs": [
    {
     "name": "stdout",
     "output_type": "stream",
     "text": [
      "in three function\n",
      " in two function\n",
      "in one function\n",
      " in four function\n"
     ]
    }
   ],
   "source": [
    "#single inheitance\n",
    "# parent class ---> child class\n",
    "class parent:\n",
    "    def one(self):\n",
    "        print(\"in one function\")\n",
    "    def two(self):\n",
    "        print(\" in two function\")\n",
    "        \n",
    "class child(parent):\n",
    "    def three(self):\n",
    "         print(\"in three function\")\n",
    "    def four(self):\n",
    "        print(\" in four function\")\n",
    "i=child()\n",
    "i.three()\n",
    "i.two()\n",
    "i.one()\n",
    "i.four()\n",
    "        \n",
    "        "
   ]
  },
  {
   "cell_type": "code",
   "execution_count": 36,
   "metadata": {},
   "outputs": [
    {
     "name": "stdout",
     "output_type": "stream",
     "text": [
      "mother name is:sneha\n",
      "father name is:hari\n",
      "sneha\n",
      "hari\n"
     ]
    }
   ],
   "source": [
    "# Multiple inheritance - if a child class is derived from morethan one parent class\n",
    "class parentone:\n",
    "    mothername=\"\"\n",
    "    def mother(self):\n",
    "        print(self.mothername)\n",
    "        \n",
    "class parenttwo:\n",
    "    fathername=\"\"\n",
    "    def father(self):\n",
    "        print(self.fathername)\n",
    "        \n",
    "class child(parentone,parenttwo):\n",
    "    def child1(self):\n",
    "        print(\"mother name is:\"+self.mothername)\n",
    "        print(\"father name is:\"+self.fathername)\n",
    "        \n",
    "m=child()\n",
    "m.mothername=\"sneha\"\n",
    "m.fathername =\"hari\"\n",
    "m.child1()\n",
    "m.mother()\n",
    "m.father()\n",
    "    \n"
   ]
  },
  {
   "cell_type": "code",
   "execution_count": 13,
   "metadata": {},
   "outputs": [
    {
     "name": "stdout",
     "output_type": "stream",
     "text": [
      "intermediate\n",
      "base\n"
     ]
    }
   ],
   "source": [
    "# Multilevel inheritance\n",
    "# base --> intermediate class -->child\n",
    "class Grandfather:\n",
    "    gfathername=\"\"\n",
    "    def grandfather(self):\n",
    "        print(self.gfathername)\n",
    "class Father(Grandfather):        \n",
    "    fathername=\"\"\n",
    "    def father(self):\n",
    "        print(self.fathername) \n",
    "        \n",
    "class child(Father):\n",
    "    \n",
    "    \n",
    "    def daughter(self):\n",
    "        print(self.fathername)\n",
    "        print(self.gfathername)\n",
    "        \n",
    "ml=child()\n",
    "ml.gfathername=\"base\"\n",
    "ml.fathername=\"intermediate\"\n",
    "ml.daughter()"
   ]
  },
  {
   "cell_type": "code",
   "execution_count": 16,
   "metadata": {},
   "outputs": [
    {
     "name": "stdout",
     "output_type": "stream",
     "text": [
      "this is a parent class\n",
      "this is a child2 class\n",
      "this is a parent class\n",
      "this is a child1 class\n"
     ]
    }
   ],
   "source": [
    "#Hierarchical inheritance - one or more classes are derived from single parent class\n",
    "class parent:\n",
    "    def fun1(self):\n",
    "        print(\"this is a parent class\")\n",
    "        \n",
    "class child1(parent):\n",
    "    def fun2(self):\n",
    "        print(\"this is a child1 class\") \n",
    "        \n",
    "        \n",
    "class child2(parent):\n",
    "    def fun3(self):\n",
    "        print(\"this is a child2 class\") \n",
    "        \n",
    "h=child2()\n",
    "h.fun1()\n",
    "h.fun3()\n",
    "h1=child1()\n",
    "h1.fun1()\n",
    "h1.fun2()\n",
    "        "
   ]
  },
  {
   "cell_type": "code",
   "execution_count": null,
   "metadata": {},
   "outputs": [],
   "source": []
  },
  {
   "cell_type": "code",
   "execution_count": null,
   "metadata": {},
   "outputs": [],
   "source": []
  },
  {
   "cell_type": "code",
   "execution_count": null,
   "metadata": {},
   "outputs": [],
   "source": []
  },
  {
   "cell_type": "code",
   "execution_count": null,
   "metadata": {},
   "outputs": [],
   "source": []
  },
  {
   "cell_type": "code",
   "execution_count": null,
   "metadata": {},
   "outputs": [],
   "source": []
  }
 ],
 "metadata": {
  "kernelspec": {
   "display_name": "Python 3",
   "language": "python",
   "name": "python3"
  },
  "language_info": {
   "codemirror_mode": {
    "name": "ipython",
    "version": 3
   },
   "file_extension": ".py",
   "mimetype": "text/x-python",
   "name": "python",
   "nbconvert_exporter": "python",
   "pygments_lexer": "ipython3",
   "version": "3.7.6"
  }
 },
 "nbformat": 4,
 "nbformat_minor": 4
}
