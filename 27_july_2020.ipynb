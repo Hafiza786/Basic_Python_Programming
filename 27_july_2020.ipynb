{
 "cells": [
  {
   "cell_type": "markdown",
   "metadata": {},
   "source": [
    "# Object oriented Programming\n",
    "### Object\n",
    "- Physical existance of a class is nothing but an object\n",
    "### class\n",
    "- collection of variables and methods\n",
    "### Variable\n",
    "- properties are represented as variables in class\n",
    "### methods\n",
    "- actios to be done is represented by method"
   ]
  },
  {
   "cell_type": "code",
   "execution_count": 18,
   "metadata": {},
   "outputs": [
    {
     "data": {
      "text/plain": [
       "<__main__.sample at 0x21e90cecbc8>"
      ]
     },
     "execution_count": 18,
     "metadata": {},
     "output_type": "execute_result"
    }
   ],
   "source": [
    "class sample:\n",
    "    ''' this is a sample class'''\n",
    "a=sample()\n",
    "a"
   ]
  },
  {
   "cell_type": "code",
   "execution_count": 19,
   "metadata": {},
   "outputs": [
    {
     "data": {
      "text/plain": [
       "2330301746120"
      ]
     },
     "execution_count": 19,
     "metadata": {},
     "output_type": "execute_result"
    }
   ],
   "source": [
    "id(a)"
   ]
  },
  {
   "cell_type": "code",
   "execution_count": 38,
   "metadata": {},
   "outputs": [
    {
     "data": {
      "text/plain": [
       "' this is a sample class'"
      ]
     },
     "execution_count": 38,
     "metadata": {},
     "output_type": "execute_result"
    }
   ],
   "source": [
    "a.__doc__"
   ]
  },
  {
   "cell_type": "code",
   "execution_count": 40,
   "metadata": {},
   "outputs": [
    {
     "data": {
      "text/plain": [
       "<__main__.example at 0x253689a5188>"
      ]
     },
     "execution_count": 40,
     "metadata": {},
     "output_type": "execute_result"
    }
   ],
   "source": [
    "class example:\n",
    "    pass    #it just execute and move out of the class\n",
    "b=example()\n",
    "b"
   ]
  },
  {
   "cell_type": "code",
   "execution_count": 43,
   "metadata": {},
   "outputs": [
    {
     "name": "stdout",
     "output_type": "stream",
     "text": [
      "in init constructor\n"
     ]
    }
   ],
   "source": [
    "class student:\n",
    "    def __init__(self,sname,rollno):\n",
    "        self.sname=sname\n",
    "        self.rollno=rollno\n",
    "        print(\"in init constructor\")\n",
    "s= student('priya',123)        "
   ]
  },
  {
   "cell_type": "markdown",
   "metadata": {},
   "source": [
    "- init- init is called by default when an object is created for a class.\n",
    "### self\n",
    "- first argument for the constructor.\n",
    "- points to the current object.\n",
    "- no need to provide value for delf argument at the time of object creation.\n",
    "- default argument which refers to object in the class"
   ]
  },
  {
   "cell_type": "code",
   "execution_count": 8,
   "metadata": {},
   "outputs": [
    {
     "name": "stdout",
     "output_type": "stream",
     "text": [
      "in init constructor\n"
     ]
    }
   ],
   "source": [
    "class student:\n",
    "    def __init__(self,sname,rollno): #self is default and it should be first argument\n",
    "                                     #in class when we use a class it must be called but by using init function it will automaticly called\n",
    "        self.sname=sname            #to avoid calling of function we use it \n",
    "        self.rollno=rollno          #we use this to point to the current function\n",
    "        print(\"in init constructor\")\n",
    "                    \n",
    "s= student('priya',123)        "
   ]
  },
  {
   "cell_type": "code",
   "execution_count": 7,
   "metadata": {},
   "outputs": [
    {
     "name": "stdout",
     "output_type": "stream",
     "text": [
      "in init constructor\n",
      "priya 123\n"
     ]
    }
   ],
   "source": [
    "class student:\n",
    "    def __init__(self,sname,rollno): #in class when we use a class it must be called but by using init function it will automaticly called\n",
    "        self.sname=sname            #to avoid calling of function we use it \n",
    "        self.rollno=rollno\n",
    "        print(\"in init constructor\")\n",
    "    def display(self):\n",
    "        print(self.sname,self.rollno)\n",
    "s= student('priya',123)\n",
    "s.display()"
   ]
  },
  {
   "cell_type": "code",
   "execution_count": 16,
   "metadata": {},
   "outputs": [
    {
     "name": "stdout",
     "output_type": "stream",
     "text": [
      "values are taken\n",
      "22\n",
      "enter arg1 150\n",
      "enter arg2280\n",
      "values are taken\n",
      "430\n"
     ]
    }
   ],
   "source": [
    "#addition\n",
    "class calci:\n",
    "    def __init__(self,arg1,arg2):\n",
    "        self.arg1=arg1\n",
    "        self.arg2=arg2\n",
    "        print(\"values are taken\")\n",
    "    def add(self):\n",
    "        print(self.arg1+self.arg2)\n",
    "        \n",
    "ob1=calci(12,10)\n",
    "ob1.add()\n",
    "ob2=calci(int(input(\"enter arg1\")),int(input(\"enter arg2\")))\n",
    "ob2.add()"
   ]
  },
  {
   "cell_type": "code",
   "execution_count": 1,
   "metadata": {},
   "outputs": [
    {
     "name": "stdout",
     "output_type": "stream",
     "text": [
      "enter arg1 20\n",
      "enter arg25\n",
      "values are taken\n",
      "25\n",
      "15\n",
      "100\n",
      "0\n",
      "4.0\n"
     ]
    }
   ],
   "source": [
    "#task : calculator \n",
    "class calci:\n",
    "    def __init__(self,arg1,arg2):\n",
    "        self.arg1=arg1\n",
    "        self.arg2=arg2\n",
    "        print(\"values are taken\")\n",
    "    def add(self):\n",
    "        print(self.arg1+self.arg2)\n",
    "    def sub(self):\n",
    "        print(self.arg1-self.arg2)\n",
    "    def mul(self):\n",
    "        print(self.arg1*self.arg2)\n",
    "    def mod(self):\n",
    "        print(self.arg1%self.arg2)\n",
    "    def div(self):\n",
    "        print(self.arg1/self.arg2)\n",
    "            \n",
    "ob2=calci(int(input(\"enter arg1\")),int(input(\"enter arg2\")))\n",
    "ob2.add()\n",
    "ob2.sub()\n",
    "ob2.mul()\n",
    "ob2.mod()\n",
    "ob2.div()"
   ]
  },
  {
   "cell_type": "markdown",
   "metadata": {},
   "source": [
    "### types of methods\n",
    "- instance method\n",
    "- class method\n",
    "- static method\n"
   ]
  },
  {
   "cell_type": "code",
   "execution_count": 23,
   "metadata": {},
   "outputs": [
    {
     "name": "stdout",
     "output_type": "stream",
     "text": [
      "fiza 126 56\n",
      "corporation is:APSSDC\n",
      "enter10\n",
      "enter5\n",
      "2\n"
     ]
    }
   ],
   "source": [
    "class Employee:\n",
    "    corp=\"APSSDC\"\n",
    "    def __init__(self,ename,eid,esalary): #init is indirectinstance function\n",
    "        self.ename=ename\n",
    "        self.eid=eid\n",
    "        self.esalary=esalary\n",
    "        \n",
    "    def show(self):  # instance method\n",
    "         print(self.ename,self.eid,self.esalary)\n",
    "    def corporation(cls): #class method\n",
    "        print(\"corporation is:\"+cls.corp) #in place of cls(object used to access class variable) we can use temp\n",
    "    def div(a,b): #static method\n",
    "        print(a//b)\n",
    "            \n",
    "e= Employee(\"fiza\",126,56)\n",
    "e.show()\n",
    "e.corporation()\n",
    "Employee.div(int(input(\"enter\")),int(input(\"enter\")))\n"
   ]
  },
  {
   "attachments": {},
   "cell_type": "markdown",
   "metadata": {},
   "source": [
    "# Inheritance \n",
    "- Acquiring properties from parent class to child class\n",
    "- reusability\n",
    "## Types of inheritance\n",
    "- single\n",
    "- multiple\n",
    "- multilevel\n",
    "- hierachical\n"
   ]
  },
  {
   "cell_type": "code",
   "execution_count": 28,
   "metadata": {},
   "outputs": [
    {
     "name": "stdout",
     "output_type": "stream",
     "text": [
      "in three function\n",
      " in two function\n",
      "in one function\n",
      " in four function\n"
     ]
    }
   ],
   "source": [
    "#single inheritance\n",
    "# parent class ---> child class\n",
    "class parent:\n",
    "    def one(self):\n",
    "        print(\"in one function\")\n",
    "    def two(self):\n",
    "        print(\" in two function\")\n",
    "        \n",
    "class child(parent):\n",
    "    def three(self):\n",
    "         print(\"in three function\")\n",
    "    def four(self):\n",
    "        print(\" in four function\")\n",
    "i=child()\n",
    "i.three()\n",
    "i.two()\n",
    "i.one()\n",
    "i.four()\n",
    "        \n",
    "        "
   ]
  },
  {
   "cell_type": "code",
   "execution_count": 18,
   "metadata": {},
   "outputs": [
    {
     "name": "stdout",
     "output_type": "stream",
     "text": [
      "(10, 3)\n"
     ]
    }
   ],
   "source": [
    "#single inheritance\n",
    "class ParentClass:\n",
    "    \n",
    "    def __init__(self):\n",
    "        self.val1 = 10\n",
    "        self.val2 = 3\n",
    "        \n",
    "    def show(self):\n",
    "        print((self.val1,self.val2))\n",
    "        \n",
    "# class childClass(ParentClass):\n",
    "#     def power(self):\n",
    "#         print(self.val1**self.val2)\n",
    "\n",
    "ob = ParentClass()\n",
    "# ob.values()\n",
    "ob.show()"
   ]
  },
  {
   "cell_type": "code",
   "execution_count": 15,
   "metadata": {},
   "outputs": [
    {
     "name": "stdout",
     "output_type": "stream",
     "text": [
      "mother name is:sneha\n",
      "father name is:hari\n",
      "sneha\n",
      "hari\n"
     ]
    }
   ],
   "source": [
    "# Multiple inheritance - if a child class is derived from morethan one parent class\n",
    "class parentone:\n",
    "    mothername=\"\"\n",
    "    def mother(self):\n",
    "        print(self.mothername)\n",
    "        \n",
    "class parenttwo:\n",
    "    fathername=\"\"\n",
    "    def father(self):\n",
    "        print(self.fathername)\n",
    "        \n",
    "class child(parentone,parenttwo):\n",
    "    def child1(self):\n",
    "        print(\"mother name is:\"+self.mothername)\n",
    "        print(\"father name is:\"+self.fathername)\n",
    "        \n",
    "m=child()\n",
    "m.mothername=\"sneha\"\n",
    "m.fathername =\"hari\"\n",
    "m.child1()\n",
    "m.mother()\n",
    "m.father()\n",
    "    \n"
   ]
  },
  {
   "cell_type": "code",
   "execution_count": 19,
   "metadata": {},
   "outputs": [
    {
     "name": "stdout",
     "output_type": "stream",
     "text": [
      "3000\n"
     ]
    }
   ],
   "source": [
    "#multiple inheritance\n",
    "class fatherClass:\n",
    "    def __init__(self):\n",
    "        self.money = 1000\n",
    "        \n",
    "        \n",
    "class MotherClass:\n",
    "    def __init__(self):\n",
    "        self.amount  = 2000\n",
    "        \n",
    "\n",
    "class Child(fatherClass,MotherClass):\n",
    "    def __init__(self):\n",
    "        fatherClass.__init__(self)\n",
    "        MotherClass.__init__(self)\n",
    "        print(self.money+self.amount)\n",
    "        \n",
    "ob_Child = Child()"
   ]
  },
  {
   "cell_type": "code",
   "execution_count": 17,
   "metadata": {},
   "outputs": [
    {
     "name": "stdout",
     "output_type": "stream",
     "text": [
      "father name is:intermediate\n",
      "grandfather name is:base\n"
     ]
    }
   ],
   "source": [
    "# Multilevel inheritance\n",
    "# base --> intermediate class -->child\n",
    "class Grandfather:\n",
    "    gfathername=\"\"\n",
    "    def grandfather(self):\n",
    "        print(self.gfathername)\n",
    "class Father(Grandfather):        \n",
    "    fathername=\"\"\n",
    "    def father(self):\n",
    "        print(self.fathername) \n",
    "        \n",
    "class child(Father):\n",
    "    \n",
    "    \n",
    "    def daughter(self):\n",
    "        print(\"father name is:\"+self.fathername)\n",
    "        print(\"grandfather name is:\"+self.gfathername)\n",
    "        \n",
    "ml=child()\n",
    "ml.gfathername=\"base\"\n",
    "ml.fathername=\"intermediate\"\n",
    "ml.daughter()"
   ]
  },
  {
   "cell_type": "code",
   "execution_count": 16,
   "metadata": {},
   "outputs": [
    {
     "name": "stdout",
     "output_type": "stream",
     "text": [
      "this is a parent class\n",
      "this is a child2 class\n",
      "this is a parent class\n",
      "this is a child1 class\n"
     ]
    }
   ],
   "source": [
    "#Hierarchical inheritance - one or more classes are derived from single parent class\n",
    "class parent:\n",
    "    def fun1(self):\n",
    "        print(\"this is a parent class\")\n",
    "        \n",
    "class child1(parent):\n",
    "    def fun2(self):\n",
    "        print(\"this is a child1 class\") \n",
    "        \n",
    "        \n",
    "class child2(parent):\n",
    "    def fun3(self):\n",
    "        print(\"this is a child2 class\") \n",
    "        \n",
    "h=child2()\n",
    "h.fun1()\n",
    "h.fun3()\n",
    "h1=child1()\n",
    "h1.fun1()\n",
    "h1.fun2()\n",
    "        "
   ]
  },
  {
   "cell_type": "code",
   "execution_count": 20,
   "metadata": {},
   "outputs": [
    {
     "name": "stdout",
     "output_type": "stream",
     "text": [
      "478434 895869\n"
     ]
    }
   ],
   "source": [
    "#Create two different parent classes and it returns Phone OTP and Mail OTP\n",
    "class parent1():\n",
    "    def __init__(self):\n",
    "        self.mobile_otp=478434\n",
    "class parent2():\n",
    "    def __init__(self):\n",
    "        self.mail_otp=895869\n",
    "class child():\n",
    "    def __init__(self):\n",
    "        parent1.__init__(self)\n",
    "        parent2.__init__(self)\n",
    "        print(self.mobile_otp,self.mail_otp)\n",
    "ob_child=child()"
   ]
  },
  {
   "cell_type": "code",
   "execution_count": 21,
   "metadata": {},
   "outputs": [
    {
     "name": "stdout",
     "output_type": "stream",
     "text": [
      "phone otp: 23230 mobile otp: 25852\n"
     ]
    }
   ],
   "source": [
    "#create only one child class and it returns both combination of OTP\n",
    "class phoneotp:\n",
    "    def __init__(self):\n",
    "        self.mobileotp = 23230\n",
    "\n",
    "class mailotp:\n",
    "    def __init__(self):\n",
    "        self.mailotp = 25852\n",
    "        \n",
    "class allotp(phoneotp,mailotp):\n",
    "    def __init__(self):\n",
    "        phoneotp.__init__(self)\n",
    "        mailotp.__init__(self)\n",
    "        print(\"phone otp:\",self.mobileotp,\"mobile otp:\",self.mailotp)\n",
    "ob_allotp = allotp()"
   ]
  },
  {
   "cell_type": "code",
   "execution_count": 22,
   "metadata": {},
   "outputs": [
    {
     "data": {
      "text/plain": [
       "876763"
      ]
     },
     "execution_count": 22,
     "metadata": {},
     "output_type": "execute_result"
    }
   ],
   "source": [
    "# Random OTP generation\n",
    "\n",
    "import random\n",
    "def OTP():\n",
    "    otp = random.randint(100000,999999)\n",
    "    return otp\n",
    "    \n",
    "OTP()"
   ]
  },
  {
   "cell_type": "code",
   "execution_count": 23,
   "metadata": {},
   "outputs": [
    {
     "name": "stdout",
     "output_type": "stream",
     "text": [
      "827455312473\n"
     ]
    }
   ],
   "source": [
    "import random\n",
    "class parent1():\n",
    "    def __init__(self):\n",
    "        self.mobile_otp=random.randint(100000,1000000)\n",
    "class parent2():\n",
    "    def __init__(self):\n",
    "        self.mail_otp=random.randint(100000,1000000)\n",
    "class child():\n",
    "    def __init__(self):\n",
    "        parent1.__init__(self)\n",
    "        parent2.__init__(self)\n",
    "        print(str(self.mobile_otp)+str(self.mail_otp))\n",
    "ob_child=child()"
   ]
  },
  {
   "cell_type": "code",
   "execution_count": null,
   "metadata": {},
   "outputs": [],
   "source": []
  }
 ],
 "metadata": {
  "kernelspec": {
   "display_name": "Python 3",
   "language": "python",
   "name": "python3"
  },
  "language_info": {
   "codemirror_mode": {
    "name": "ipython",
    "version": 3
   },
   "file_extension": ".py",
   "mimetype": "text/x-python",
   "name": "python",
   "nbconvert_exporter": "python",
   "pygments_lexer": "ipython3",
   "version": "3.7.6"
  }
 },
 "nbformat": 4,
 "nbformat_minor": 4
}
