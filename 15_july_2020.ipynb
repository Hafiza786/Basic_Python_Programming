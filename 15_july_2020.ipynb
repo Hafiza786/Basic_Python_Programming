{
 "cells": [
  {
   "cell_type": "markdown",
   "metadata": {},
   "source": [
    "# condition Execution / conditional statements\n",
    "- decision making is depending on condition whether the condition is statisfied or not\n",
    "- in python we use : at the end of the condition\n",
    "- **if**\n",
    "- **if...else**\n",
    "- **if ...elif...else**\n",
    "- **nested if**\n"
   ]
  },
  {
   "cell_type": "code",
   "execution_count": 1,
   "metadata": {},
   "outputs": [
    {
     "data": {
      "text/plain": [
       "True"
      ]
     },
     "execution_count": 1,
     "metadata": {},
     "output_type": "execute_result"
    }
   ],
   "source": [
    "2==2 #comparsion operator "
   ]
  },
  {
   "cell_type": "code",
   "execution_count": 2,
   "metadata": {},
   "outputs": [
    {
     "ename": "SyntaxError",
     "evalue": "can't assign to literal (<ipython-input-2-fe91249abf80>, line 1)",
     "output_type": "error",
     "traceback": [
      "\u001b[1;36m  File \u001b[1;32m\"<ipython-input-2-fe91249abf80>\"\u001b[1;36m, line \u001b[1;32m1\u001b[0m\n\u001b[1;33m    2=2 # assignment operator\u001b[0m\n\u001b[1;37m                             ^\u001b[0m\n\u001b[1;31mSyntaxError\u001b[0m\u001b[1;31m:\u001b[0m can't assign to literal\n"
     ]
    }
   ],
   "source": [
    "2=2 # assignment operator\n"
   ]
  },
  {
   "cell_type": "code",
   "execution_count": 3,
   "metadata": {},
   "outputs": [
    {
     "data": {
      "text/plain": [
       "bool"
      ]
     },
     "execution_count": 3,
     "metadata": {},
     "output_type": "execute_result"
    }
   ],
   "source": [
    "type(True)"
   ]
  },
  {
   "cell_type": "code",
   "execution_count": 5,
   "metadata": {},
   "outputs": [
    {
     "data": {
      "text/plain": [
       "bool"
      ]
     },
     "execution_count": 5,
     "metadata": {},
     "output_type": "execute_result"
    }
   ],
   "source": [
    "type(False)"
   ]
  },
  {
   "cell_type": "code",
   "execution_count": 3,
   "metadata": {},
   "outputs": [
    {
     "name": "stdout",
     "output_type": "stream",
     "text": [
      "False\n",
      "True\n",
      "True\n"
     ]
    }
   ],
   "source": [
    "a=6\n",
    "b=7\n",
    "c=3\n",
    "print(a==7 and b==7)\n",
    "print(not a==7 and b==7) #here not is applicable to a only\n",
    "print(not (a==7 and b==7))#first  and operation is perfomed and then not is performed"
   ]
  },
  {
   "cell_type": "code",
   "execution_count": 8,
   "metadata": {},
   "outputs": [
    {
     "name": "stdout",
     "output_type": "stream",
     "text": [
      " what is your name?fiza\n",
      "what is your passwordpassword\n",
      " welcome\n"
     ]
    }
   ],
   "source": [
    "username = input(\" what is your name?\")\n",
    "password = input(\"what is your password\")\n",
    "if username == \"fiza\" and password ==\"password\":\n",
    "    print(\" welcome\")\n",
    "elif username==\"sneha\" and password == \"vinu\":\n",
    "    print(\"welcome sneha\")\n",
    "else:\n",
    "    print(\"worng logins\")"
   ]
  },
  {
   "cell_type": "code",
   "execution_count": 9,
   "metadata": {},
   "outputs": [
    {
     "name": "stdout",
     "output_type": "stream",
     "text": [
      "enter value 75\n",
      "positive\n"
     ]
    }
   ],
   "source": [
    "num=float(input(\"enter value\"))\n",
    "if num >= 0:\n",
    "    if num == 0:\n",
    "         print(\"zero\")\n",
    "    else:\n",
    "        print(\"positive\")\n",
    "else:\n",
    "     print(\"negative\")\n",
    "        "
   ]
  },
  {
   "cell_type": "code",
   "execution_count": 14,
   "metadata": {},
   "outputs": [
    {
     "name": "stdout",
     "output_type": "stream",
     "text": [
      "enter year 2020\n",
      "leap year\n"
     ]
    }
   ],
   "source": [
    "#task\n",
    "#given year leap or not\n",
    "year=int(input(\"enter year\"))\n",
    "if year%400 == 0 or (year%100!=0 and year%4==0):\n",
    "    print(\"leap year\")\n",
    "else:\n",
    "     print(\"not leap year \")"
   ]
  },
  {
   "cell_type": "markdown",
   "metadata": {},
   "source": [
    "# iterations\n",
    "##looping ststements\n",
    "- *A loop statement allows us execute a statement or group of statements at multiple times*\n",
    "- for loop\n",
    "-  while loop\n",
    "-  **jumping ststements**\n",
    "- break\n",
    "- continu\n",
    "- syntax :P for variable in sequence:\n",
    " statements\n",
    "else:\n",
    "ststements"
   ]
  },
  {
   "cell_type": "code",
   "execution_count": 10,
   "metadata": {},
   "outputs": [
    {
     "name": "stdout",
     "output_type": "stream",
     "text": [
      "12345678910"
     ]
    }
   ],
   "source": [
    "# print 1 to 10 natural numbers\n",
    "#using for loop\n",
    "for i in range(1,11):\n",
    "    print(i, end=\"\")"
   ]
  },
  {
   "cell_type": "code",
   "execution_count": 7,
   "metadata": {},
   "outputs": [
    {
     "name": "stdout",
     "output_type": "stream",
     "text": [
      "55\n"
     ]
    }
   ],
   "source": [
    "# print sum on n natural numbers\n",
    "#using for loop\n",
    "sum=0\n",
    "for i in range(1,11):\n",
    "    sum = sum+i\n",
    "print(sum)"
   ]
  },
  {
   "cell_type": "code",
   "execution_count": 1,
   "metadata": {},
   "outputs": [
    {
     "name": "stdout",
     "output_type": "stream",
     "text": [
      "55\n"
     ]
    }
   ],
   "source": [
    "# print 1 to 10 natural numbers\n",
    "#using while loop\n",
    "sum=0\n",
    "i=1\n",
    "while i<11:\n",
    "    sum = sum+i\n",
    "    i=i+1\n",
    "print(sum)    "
   ]
  },
  {
   "cell_type": "code",
   "execution_count": 4,
   "metadata": {},
   "outputs": [
    {
     "name": "stdout",
     "output_type": "stream",
     "text": [
      "inside a loop\n",
      "inside a loop\n",
      "inside a loop\n",
      "inside else\n"
     ]
    }
   ],
   "source": [
    "counter=0\n",
    "while counter<3:\n",
    "    print(\"inside a loop\")\n",
    "    counter=counter+1\n",
    "else:\n",
    "    print(\"inside else\")"
   ]
  },
  {
   "cell_type": "code",
   "execution_count": 8,
   "metadata": {},
   "outputs": [
    {
     "name": "stdout",
     "output_type": "stream",
     "text": [
      "h\n",
      "the end\n"
     ]
    }
   ],
   "source": [
    "# Break \n",
    "for val in \"hafiza\":#it will break after the value a\n",
    "    if val == 'a':\n",
    "        break\n",
    "    print(val)\n",
    "print(\"the end\")"
   ]
  },
  {
   "cell_type": "code",
   "execution_count": 9,
   "metadata": {},
   "outputs": [
    {
     "name": "stdout",
     "output_type": "stream",
     "text": [
      "h\n",
      "f\n",
      "i\n",
      "z\n",
      "the end\n"
     ]
    }
   ],
   "source": [
    "# continue\n",
    "for val in \"hafiza\":#continue by leaving the value\n",
    "    if val == 'a':\n",
    "        continue\n",
    "    print(val)\n",
    "print(\"the end\")"
   ]
  },
  {
   "cell_type": "code",
   "execution_count": 15,
   "metadata": {},
   "outputs": [
    {
     "name": "stdout",
     "output_type": "stream",
     "text": [
      "1 odd\n",
      "2 even\n",
      "3 odd\n",
      "4 even\n",
      "5 odd\n",
      "6 even\n",
      "7 odd\n",
      "8 even\n",
      "9 odd\n",
      "10 even\n"
     ]
    }
   ],
   "source": [
    "for i in range(1,11):\n",
    "    if (i%2==0):\n",
    "        print(i,\"even\")\n",
    "    else:\n",
    "        print(i,\"odd\")"
   ]
  },
  {
   "cell_type": "code",
   "execution_count": null,
   "metadata": {},
   "outputs": [],
   "source": []
  }
 ],
 "metadata": {
  "kernelspec": {
   "display_name": "Python 3",
   "language": "python",
   "name": "python3"
  },
  "language_info": {
   "codemirror_mode": {
    "name": "ipython",
    "version": 3
   },
   "file_extension": ".py",
   "mimetype": "text/x-python",
   "name": "python",
   "nbconvert_exporter": "python",
   "pygments_lexer": "ipython3",
   "version": "3.7.6"
  }
 },
 "nbformat": 4,
 "nbformat_minor": 4
}
